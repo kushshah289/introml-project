{
 "cells": [
  {
   "cell_type": "code",
   "execution_count": 1,
   "metadata": {
    "collapsed": true
   },
   "outputs": [],
   "source": [
    "import flickrapi\n",
    "import urllib.request\n",
    "import matplotlib.pyplot as plt\n",
    "import numpy as np\n",
    "import skimage.io\n",
    "import skimage.transform\n",
    "import requests\n",
    "from io import BytesIO\n",
    "%matplotlib inline"
   ]
  },
  {
   "cell_type": "code",
   "execution_count": 2,
   "metadata": {
    "collapsed": true
   },
   "outputs": [],
   "source": [
    "api_key = u'bb848964af88a688f94f9b93bd102692'\n",
    "api_secret = u'c98887a0b0ddfa63'\n",
    "flickr = flickrapi.FlickrAPI(api_key, api_secret)"
   ]
  },
  {
   "cell_type": "code",
   "execution_count": 3,
   "metadata": {
    "collapsed": true
   },
   "outputs": [],
   "source": [
    "keyword1 = 'texture'\n",
    "dir_name = 'texture'\n",
    "outer_dir_name = 'texture_outer'\n",
    "photos_texture = flickr.walk(text=keyword1, tag_mode='all', tags=keyword1,extras='url_c',\\\n",
    "                     sort='relevance',per_page=1000)"
   ]
  },
  {
   "cell_type": "code",
   "execution_count": 4,
   "metadata": {},
   "outputs": [
    {
     "name": "stdout",
     "output_type": "stream",
     "text": [
      "Making directory texture_outer\n",
      "Making directory texture\n"
     ]
    }
   ],
   "source": [
    "import os\n",
    "outer_dir_exists = os.path.isdir(outer_dir_name)\n",
    "if not outer_dir_exists:\n",
    "    os.mkdir(outer_dir_name)\n",
    "    print(\"Making directory %s\" % outer_dir_name)\n",
    "else:\n",
    "    print(\"Created directory %s\" % outer_dir_name)\n",
    "os.chdir(outer_dir_name)\n",
    "dir_exists = os.path.isdir(dir_name)\n",
    "if not dir_exists:\n",
    "    os.mkdir(dir_name)\n",
    "    print(\"Making directory %s\" % dir_name)\n",
    "else:\n",
    "    print(\"Created directory %s\" % dir_name)\n",
    "os.chdir(dir_name)    "
   ]
  },
  {
   "cell_type": "code",
   "execution_count": 7,
   "metadata": {
    "collapsed": true
   },
   "outputs": [],
   "source": [
    "def disp_image(im):\n",
    "    if (len(im.shape) == 2):\n",
    "        plt.imshow(im, cmap='gray')    \n",
    "    else:\n",
    "        im1 = (im-np.min(im))/(np.max(im)-np.min(im))*255\n",
    "        im1 = im1.astype(np.uint8)\n",
    "        plt.imshow(im1)    \n",
    "        \n",
    "    plt.xticks([])\n",
    "    plt.yticks([])"
   ]
  },
  {
   "cell_type": "code",
   "execution_count": 8,
   "metadata": {},
   "outputs": [
    {
     "name": "stdout",
     "output_type": "stream",
     "text": [
      "C:\\Users\\Raj Mehta\\Documents\\GitHub\\nst2\\texture_outer\\texture\n"
     ]
    }
   ],
   "source": [
    "cwd = os.getcwd()\n",
    "print(cwd)"
   ]
  }
  {
   "cell_type": "code",
   "execution_count": null,
   "metadata": {
    "collapsed": true
   },
   "outputs": [],
   "source": []
  },
  {
   "cell_type": "code",
   "execution_count": null,
   "metadata": {
    "collapsed": true
   },
   "outputs": [],
   "source": []
  }
 ],
 "metadata": {
  "kernelspec": {
   "display_name": "Python 3",
   "language": "python",
   "name": "python3"
  },
  "language_info": {
   "codemirror_mode": {
    "name": "ipython",
    "version": 3
   },
   "file_extension": ".py",
   "mimetype": "text/x-python",
   "name": "python",
   "nbconvert_exporter": "python",
   "pygments_lexer": "ipython3",
   "version": "3.6.1"
  }
 },
 "nbformat": 4,
 "nbformat_minor": 2
}
