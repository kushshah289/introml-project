{
 "cells": [
  {
   "cell_type": "code",
   "execution_count": 1,
   "metadata": {
    "collapsed": true
   },
   "outputs": [],
   "source": [
    "%matplotlib inline\n",
    "import matplotlib.pyplot as plt\n",
    "import tensorflow as tf\n",
    "import numpy as np\n",
    "import PIL.Image\n",
    "# import vgg1\n",
    "import download\n",
    "import imagecomputations\n",
    "import lossfunction\n",
    "import requests"
   ]
  },
  {
   "cell_type": "code",
   "execution_count": null,
   "metadata": {
    "collapsed": true
   },
   "outputs": [],
   "source": []
  },
  {
   "cell_type": "code",
   "execution_count": 2,
   "metadata": {
    "collapsed": true
   },
   "outputs": [],
   "source": [
    "import vgg1"
   ]
  },
  {
   "cell_type": "code",
   "execution_count": 3,
   "metadata": {},
   "outputs": [
    {
     "name": "stdout",
     "output_type": "stream",
     "text": [
      "Downloading VGG16 Params ...\n",
      "Data has already been downloaded\n"
     ]
    }
   ],
   "source": [
    "vgg1.mdownload()"
   ]
  },
  {
   "cell_type": "code",
   "execution_count": 4,
   "metadata": {
    "collapsed": true
   },
   "outputs": [],
   "source": [
    "def mse(a, b):\n",
    "    sqr = tf.square(a - b)\n",
    "    redmean = tf.reduce_mean(sqr)\n",
    "    return redmean\n",
    "\n",
    "\t\n",
    "def create_content_loss(session, model, content_image, ids):\n",
    "    feed_dict = model.create_feed_dict(image=content_image)\n",
    "\n",
    "    layers = model.get_layer_tensors(ids)\n",
    "\n",
    "    content_values = session.run(layers, feed_dict=feed_dict)\n",
    "#     filewriter = tf.summary.FileWriter('C:\\\\Users\\\\Raj Mehta\\\\Documents\\\\GitHub\\\\Neural Style Transfer', values.graph)\n",
    "\n",
    "    with model.graph.as_default():\n",
    "        layer_losses = []\n",
    "    \n",
    "        for value, layer in zip(content_values, layers):\n",
    "            loss = mse(layer, value)\n",
    "#             filewriter = tf.summary.FileWriter('C:\\\\Users\\\\Raj Mehta\\\\Documents\\\\GitHub\\\\nst', loss.graph)\n",
    "\n",
    "            layer_losses.append(loss)\n",
    "\n",
    "        total_loss = tf.reduce_mean(layer_losses)\n",
    "        \n",
    "    return total_loss\n",
    "\n",
    "def gram_matrix(tensor):\n",
    "    shape = tensor.get_shape()\n",
    "    \n",
    "    num_channels = int(shape[3])\n",
    "\n",
    "    matrix = tf.reshape(tensor, shape=[-1, num_channels])\n",
    "    \n",
    "    \n",
    "    gram = tf.matmul(tf.transpose(matrix), matrix)\n",
    "\n",
    "    return gram\n",
    "\n",
    "def create_style_loss(session, model, style_image, ids):\n",
    "    feed_dict = model.create_feed_dict(image=style_image)\n",
    "\n",
    "    layers = model.get_layer_tensors(ids)\n",
    "\n",
    "    with model.graph.as_default():\n",
    "        gram_layers = [gram_matrix(layer) for layer in layers]\n",
    "\n",
    "        values = session.run(gram_layers, feed_dict=feed_dict)\n",
    "\n",
    "        layer_losses = []\n",
    "    \n",
    "        for value, gram_layer in zip(values, gram_layers):\n",
    "#             value_const = tf.constant(value)\n",
    "\n",
    "            loss = mse(gram_layer, value)\n",
    "\n",
    "            layer_losses.append(loss)\n",
    "\n",
    "        total_loss = tf.reduce_mean(layer_losses)\n",
    "        \n",
    "    return total_loss\n"
   ]
  },
  {
   "cell_type": "code",
   "execution_count": 30,
   "metadata": {
    "collapsed": true,
    "scrolled": true
   },
   "outputs": [],
   "source": [
    "def style_transfer(content_image, style_image,\n",
    "                   content_layer_ids, style_layer_ids,\n",
    "                   weight_content=1.5, weight_style=10.0,\n",
    "                   weight_denoise=0.3,\n",
    "                   num_iterations=120, step_size=10.0):\n",
    "    model = vgg1.VGG16()\n",
    "\n",
    "    session = tf.InteractiveSession(graph=model.graph)\n",
    "\n",
    "    print(\"Content layers:\")\n",
    "    print(model.get_lnames(content_layer_ids))\n",
    "    print()\n",
    "\n",
    "    print(\"Style layers:\")\n",
    "    print(model.get_lnames(style_layer_ids))\n",
    "    print()\n",
    "\n",
    "    loss_content = create_content_loss(session=session,\n",
    "                                       model=model,\n",
    "                                       content_image=content_image,\n",
    "                                       ids=content_layer_ids)\n",
    "\n",
    "    loss_style = create_style_loss(session=session,\n",
    "                                   model=model,\n",
    "                                   style_image=style_image,\n",
    "                                   ids=style_layer_ids) \n",
    "    \n",
    "    con = tf.Variable(loss_content, name='con')\n",
    "    con1 = tf.Variable(loss_style, name='con1')\n",
    "#     adj_content = tf.Variable(1/1e-10, name='adj_content')\n",
    "#     adj_style = tf.Variable(1/1e-10, name='adj_style')\n",
    "\n",
    "#     session.run([adj_content.initializer,\n",
    "#                  adj_style.initializer])\n",
    "\n",
    "#     update_adj_content = adj_content.assign(1.0 / (loss_content))\n",
    "#     update_adj_style = adj_style.assign(1.0 / (loss_style))\n",
    "\n",
    "#     update_adj_content = adj_content.assign(1.0 / 0.001)\n",
    "#     update_adj_style = adj_style.assign(1.0 / 0.001)\n",
    "#     opt = tf.train.AdamOptimizer(1e-4).minimize(cross_entropy)\n",
    "    \n",
    "    loss_combined = weight_content *  con + \\\n",
    "                    weight_style *  con1\n",
    "#     opt = tf.train.AdamOptimizer(1e-4).compute_gradients(loss_combined, model.input)\n",
    "#     init_op = tf.initialize_all_variables()\n",
    "#     gradi = init_op.compute_gradients(loss_combined)\n",
    "#     appgrad = opt.apply_gradients(gradi)\n",
    "\n",
    "    gradient = tf.gradients(loss_combined, model.input)\n",
    "\n",
    "#     run_list = [init_op, update_adj_content, update_adj_style]\n",
    "\n",
    "    mixed_image = np.random.rand(*content_image.shape) + 128\n",
    "    \n",
    "#     adj_image = tf.Variable(tf.convert_to_tensor(mixed_image), name='adj_image')\n",
    "    \n",
    "#     ad = tf.Variable(loss_combined, name='ad')\n",
    "    opt = tf.train.AdamOptimizer(1e-4).minimize(loss_combined)\n",
    "    init_op = tf.global_variables_initializer()\n",
    "    run_list = [gradient]\n",
    "#     , update_adj_content, update_adj_style]\n",
    "\n",
    "\n",
    "    for i in range(num_iterations):\n",
    "        feed_dict = model.create_feed_dict(image=mixed_image)\n",
    "#         session.run(init_op)\n",
    "\n",
    "#         grad, adj_content_val, adj_style_val =  \\\n",
    "        grad = session.run(run_list, feed_dict=feed_dict)\n",
    "#         session.run(init_op)\n",
    "#         session.run(opt, feed_dict = model.input)\n",
    "        \n",
    "#         filewriter = tf.summary.FileWriter('C:\\\\Users\\\\Raj Mehta\\\\Documents\\\\GitHub\\\\nst', grad.graph)\n",
    "\n",
    "\n",
    "        grad = np.squeeze(grad)\n",
    "\n",
    "        step_size_scaled = step_size / (np.std(grad) + 1e-8)\n",
    "\n",
    "        mixed_image -= grad * step_size_scaled\n",
    "        session.run(init_op)\n",
    "        session.run(opt, feed_dict = feed_dict)\n",
    "#         session.run(appgrad)\n",
    "\n",
    "        mixed_image = np.clip(mixed_image, 0.0, 255.0)\n",
    "\n",
    "        print(\". \", end=\"\")\n",
    "\n",
    "        if (i % 10 == 0) or (i == num_iterations - 1):\n",
    "            print()\n",
    "            print(\"Iteration:\", i)\n",
    "\n",
    "            msg = \"Weight Adj. for Content: {0:.2e}, Style: {1:.2e}\"\n",
    "#             print(msg.format(adj_content_val, adj_style_val))\n",
    "\n",
    "            imagecomputations.plot_images(content_image=content_image,\n",
    "                        style_image=style_image,\n",
    "                        mixed_image=mixed_image)\n",
    "            \n",
    "    print()\n",
    "    print(\"Final image:\")\n",
    "    imagecomputations.plot_final_image(mixed_image)\n",
    "\n",
    "    session.close()\n",
    "    \n",
    "    return mixed_image"
   ]
  },
  {
   "cell_type": "code",
   "execution_count": 31,
   "metadata": {
    "collapsed": true
   },
   "outputs": [],
   "source": [
    "content_filename = 'images/elon_musk.jpg'\n",
    "content_image = imagecomputations.get_image(content_filename)"
   ]
  },
  {
   "cell_type": "code",
   "execution_count": 32,
   "metadata": {
    "collapsed": true
   },
   "outputs": [],
   "source": [
    "style_filename = 'images/style8.jpg'\n",
    "style_image = imagecomputations.get_image(style_filename)"
   ]
  },
  {
   "cell_type": "code",
   "execution_count": 33,
   "metadata": {
    "collapsed": true
   },
   "outputs": [],
   "source": [
    "content_layer_ids = [4]"
   ]
  },
  {
   "cell_type": "code",
   "execution_count": 34,
   "metadata": {
    "collapsed": true
   },
   "outputs": [],
   "source": [
    "style_layer_ids = list(range(13))"
   ]
  },
  {
   "cell_type": "code",
   "execution_count": null,
   "metadata": {
    "collapsed": true
   },
   "outputs": [],
   "source": [
    "%%time\n",
    "img = style_transfer(content_image=content_image,\n",
    "                     style_image=style_image,\n",
    "                     content_layer_ids=content_layer_ids,\n",
    "                     style_layer_ids=style_layer_ids,\n",
    "                     weight_content=3.0,\n",
    "                     weight_style=10.0,\n",
    "                     weight_denoise=0.3,\n",
    "                     num_iterations=30,\n",
    "                     step_size=10.0)"
   ]
  },
  {
   "cell_type": "code",
   "execution_count": null,
   "metadata": {
    "collapsed": true
   },
   "outputs": [],
   "source": []
  }
 ],
 "metadata": {
  "kernelspec": {
   "display_name": "Python 3",
   "language": "python",
   "name": "python3"
  },
  "language_info": {
   "codemirror_mode": {
    "name": "ipython",
    "version": 3
   },
   "file_extension": ".py",
   "mimetype": "text/x-python",
   "name": "python",
   "nbconvert_exporter": "python",
   "pygments_lexer": "ipython3",
   "version": "3.6.1"
  }
 },
 "nbformat": 4,
 "nbformat_minor": 2
}
